{
 "cells": [
  {
   "cell_type": "code",
   "execution_count": 90,
   "id": "cbbfc10b-76f2-42eb-8c0d-f7ce952ad2d6",
   "metadata": {},
   "outputs": [],
   "source": [
    "from selenium import webdriver\n",
    "from selenium.webdriver.common.by import By\n",
    "from selenium.webdriver.support.ui import WebDriverWait\n",
    "from selenium.webdriver.support import expected_conditions as EC\n",
    "from selenium.webdriver.chrome.service import Service\n",
    "from selenium.webdriver.common.action_chains import ActionChains\n",
    "from selenium.webdriver.support.ui import Select\n",
    "from webdriver_manager.chrome import ChromeDriverManager  # Import webdriver_manager\n",
    "import time"
   ]
  },
  {
   "cell_type": "code",
   "execution_count": 92,
   "id": "20cd5d5c-dbc0-468e-9bdf-eb6d7d9675b2",
   "metadata": {},
   "outputs": [
    {
     "name": "stdout",
     "output_type": "stream",
     "text": [
      "Error occurred: Message: \n",
      "Stacktrace:\n",
      "0   chromedriver                        0x0000000104ed36c8 cxxbridge1$str$ptr + 2791212\n",
      "1   chromedriver                        0x0000000104ecbc9c cxxbridge1$str$ptr + 2759936\n",
      "2   chromedriver                        0x0000000104a1de30 cxxbridge1$string$len + 92928\n",
      "3   chromedriver                        0x0000000104a65170 cxxbridge1$string$len + 384576\n",
      "4   chromedriver                        0x0000000104aa65f8 cxxbridge1$string$len + 651976\n",
      "5   chromedriver                        0x0000000104a592fc cxxbridge1$string$len + 335820\n",
      "6   chromedriver                        0x0000000104e986c4 cxxbridge1$str$ptr + 2549544\n",
      "7   chromedriver                        0x0000000104e9b988 cxxbridge1$str$ptr + 2562540\n",
      "8   chromedriver                        0x0000000104e7871c cxxbridge1$str$ptr + 2418560\n",
      "9   chromedriver                        0x0000000104e9c1e8 cxxbridge1$str$ptr + 2564684\n",
      "10  chromedriver                        0x0000000104e69750 cxxbridge1$str$ptr + 2357172\n",
      "11  chromedriver                        0x0000000104ebbf58 cxxbridge1$str$ptr + 2695100\n",
      "12  chromedriver                        0x0000000104ebc0e0 cxxbridge1$str$ptr + 2695492\n",
      "13  chromedriver                        0x0000000104ecb910 cxxbridge1$str$ptr + 2759028\n",
      "14  libsystem_pthread.dylib             0x00000001859502e4 _pthread_start + 136\n",
      "15  libsystem_pthread.dylib             0x000000018594b0fc thread_start + 8\n",
      "\n"
     ]
    }
   ],
   "source": [
    "# Initialize Chrome WebDriver using webdriver_manager to automatically handle the ChromeDriver download\n",
    "options = webdriver.ChromeOptions()\n",
    "options.add_argument(\"--start-maximized\")  # Open window maximized\n",
    "\n",
    "# Use webdriver_manager\n",
    "driver = webdriver.Chrome(service=Service(ChromeDriverManager().install()), options=options)\n",
    "\n",
    "try:\n",
    "    driver.get(\"https://www.weather.gov/lox/observations_historical\")\n",
    "\n",
    "    # Click on Ventura\n",
    "    WebDriverWait(driver, 10).until(EC.element_to_be_clickable((By.LINK_TEXT, \"Ventura\"))).click()\n",
    "\n",
    "    # Select KOXR\n",
    "    WebDriverWait(driver, 10).until(EC.element_to_be_clickable((By.LINK_TEXT, \"KOXR*\"))).click()\n",
    "\n",
    "    # Select start year and end year\n",
    "    select_syear = Select(WebDriverWait(driver, 10).until(EC.presence_of_element_located((By.ID, \"syear\"))))\n",
    "    select_eyear = Select(WebDriverWait(driver, 10).until(EC.presence_of_element_located((By.ID, \"eyear\"))))\n",
    "\n",
    "    # Set start year to 2000 and end year to 2024\n",
    "    select_syear.select_by_visible_text(\"2000\")\n",
    "    select_eyear.select_by_visible_text(\"2024\")\n",
    "\n",
    "    # Select checkboxes for variables\n",
    "    checkboxes = [1, 6, 22, 23, 26, 27, 28]  # Adjust indices if needed\n",
    "    for checkbox in checkboxes:\n",
    "        checkbox_xpath = f\"//div[@id='launchpad']/span[{checkbox}]/label\"\n",
    "        WebDriverWait(driver, 20).until(EC.element_to_be_clickable((By.XPATH, checkbox_xpath))).click()\n",
    "\n",
    "    # Clicking the submit button to process the request\n",
    "    submit_button_xpath = \"//button[@onclick=\\\"javascript:routeStudy('1','KOXR','grabObs')\\\"]\"\n",
    "    WebDriverWait(driver, 30).until(EC.element_to_be_clickable((By.XPATH, submit_button_xpath))).click()\n",
    "    \n",
    "    # Downloading the file\n",
    "    download_xpath = \"//a[contains(text(),'Download')]\"\n",
    "    WebDriverWait(driver, 30).until(EC.element_to_be_clickable((By.XPATH, download_xpath))).click()\n",
    "\n",
    "    print(\"Downloaded data for 2000 to 2024\")\n",
    "    \n",
    "    # Click on the \"Go Again\" button to return to Ventura and KOXR\n",
    "    go_again_button_xpath = \"//a[text()='Go Again']\"\n",
    "    WebDriverWait(driver, 10).until(EC.element_to_be_clickable((By.XPATH, go_again_button_xpath))).click()\n",
    "\n",
    "    WebDriverWait(driver, 10).until(EC.element_to_be_clickable((By.LINK_TEXT, \"Ventura\"))).click()\n",
    "    WebDriverWait(driver, 10).until(EC.element_to_be_clickable((By.LINK_TEXT, \"KOXR*\"))).click()\n",
    "\n",
    "    time.sleep(10)\n",
    "    \n",
    "except Exception as e:\n",
    "    print(f\"Error occurred: {e}\")\n",
    "finally:\n",
    "    driver.quit()\n"
   ]
  },
  {
   "cell_type": "code",
   "execution_count": 94,
   "id": "12a63f54-f044-438f-9e27-23245375d439",
   "metadata": {},
   "outputs": [
    {
     "name": "stderr",
     "output_type": "stream",
     "text": [
      "/var/folders/mw/5td269yx439_x7m8tft2f1g80000gn/T/ipykernel_14933/4170102582.py:5: DtypeWarning: Columns (3,4,5,6,7,8,9,10) have mixed types. Specify dtype option on import or set low_memory=False.\n",
      "  df = pd.read_csv(file_path)\n"
     ]
    },
    {
     "name": "stdout",
     "output_type": "stream",
     "text": [
      "       Date   Time           date_time altimeter air_temp relative_humidity  \\\n",
      "0  12/31/99  16:50 1999-12-31 16:50:00     30.02     54.0              66.3   \n",
      "1  12/31/99  17:50 1999-12-31 17:50:00     30.03     52.0              71.3   \n",
      "2  12/31/99  18:50 1999-12-31 18:50:00     30.04     52.0              74.3   \n",
      "3  12/31/99  19:15 1999-12-31 19:15:00     30.04     51.8              71.3   \n",
      "4  12/31/99  19:50 1999-12-31 19:50:00     30.04     52.0              71.3   \n",
      "\n",
      "  wind_speed wind_direction sea_level_pressure wind_gust Unnamed: 10  \n",
      "0      10.36          280.0             1016.7       NaN     1016.61  \n",
      "1       6.91          270.0             1016.8       NaN     1016.95  \n",
      "2       6.91          270.0             1017.0       NaN     1017.29  \n",
      "3       6.91          270.0                NaN       NaN     1017.29  \n",
      "4       3.44          250.0             1017.2       NaN     1017.29  \n",
      "File has been saved to KOXR_2000-2024_sorted.csv\n"
     ]
    }
   ],
   "source": [
    "import pandas as pd\n",
    "\n",
    "file_path = 'KOXR_2000-2024.csv'\n",
    "\n",
    "df = pd.read_csv(file_path)\n",
    "\n",
    "# Parse the 'date_time' column\n",
    "df['date_time'] = pd.to_datetime(df['date_time'], format='%m/%d/%y-%H:%M')\n",
    "\n",
    "df_sorted = df.sort_values(by='date_time')\n",
    "\n",
    "# Reset the index\n",
    "df_sorted = df_sorted.reset_index(drop=True)\n",
    "\n",
    "# Display the first few rows of the sorted DataFrame\n",
    "print(df_sorted.head())\n",
    "\n",
    "# Specify the output path\n",
    "output_path = 'KOXR_2000-2024_sorted.csv'\n",
    "\n",
    "# Export the sorted DataFrame to a new CSV file\n",
    "df_sorted.to_csv(output_path, index=False)\n",
    "\n",
    "print(f\"File has been saved to {output_path}\")"
   ]
  },
  {
   "cell_type": "code",
   "execution_count": 96,
   "id": "09b0f4b5-2a20-4029-8cbc-dac5160822d9",
   "metadata": {
    "scrolled": true
   },
   "outputs": [],
   "source": [
    "# Drop the 'date_time' column and 'wind_gust' from the sorted DataFrame\n",
    "df_sorted = df_sorted.drop(columns=['date_time', 'wind_gust'])\n",
    "\n",
    "# Rename the 'Unnamed: 10' column to 'Atmospheric Pressure'\n",
    "df_sorted = df_sorted.rename(columns={'Unnamed: 10': 'Atmospheric Pressure'})\n",
    "\n",
    "# Handling Date and Time\n",
    "df_sorted['Date'] = pd.to_datetime(df_sorted['Date'], format='%m/%d/%y', errors='coerce').dt.date\n",
    "\n",
    "df_sorted['Time'] = pd.to_datetime(df_sorted['Time'], format='%H:%M', errors='coerce').dt.time\n",
    "\n",
    "# Select columns to convert to numeric\n",
    "columns_to_convert = [col for col in df_sorted.columns if col not in ['Date', 'Time']]\n",
    "\n",
    "# Convert all columns except 'Date' and 'Time' to numeric\n",
    "for column in columns_to_convert:\n",
    "    df_sorted[column] = pd.to_numeric(df_sorted[column], errors='coerce')"
   ]
  },
  {
   "cell_type": "code",
   "execution_count": 98,
   "id": "b5374cb7-9f28-4aa7-992b-a5a083c9f351",
   "metadata": {},
   "outputs": [
    {
     "name": "stdout",
     "output_type": "stream",
     "text": [
      "         Date      Time  altimeter  air_temp  relative_humidity  wind_speed  \\\n",
      "0  1999-12-31  16:50:00      30.02      54.0               66.3       10.36   \n",
      "1  1999-12-31  17:50:00      30.03      52.0               71.3        6.91   \n",
      "2  1999-12-31  18:50:00      30.04      52.0               74.3        6.91   \n",
      "3  1999-12-31  19:15:00      30.04      51.8               71.3        6.91   \n",
      "4  1999-12-31  19:50:00      30.04      52.0               71.3        3.44   \n",
      "\n",
      "   wind_direction  sea_level_pressure  Atmospheric Pressure  \n",
      "0           280.0              1016.7               1016.61  \n",
      "1           270.0              1016.8               1016.95  \n",
      "2           270.0              1017.0               1017.29  \n",
      "3           270.0                 NaN               1017.29  \n",
      "4           250.0              1017.2               1017.29  \n"
     ]
    }
   ],
   "source": [
    "print(df_sorted.head(5))"
   ]
  },
  {
   "cell_type": "code",
   "execution_count": 100,
   "id": "5fd60025-439e-4791-87c9-cb65045c2059",
   "metadata": {},
   "outputs": [
    {
     "name": "stdout",
     "output_type": "stream",
     "text": [
      "Date                     object\n",
      "Time                     object\n",
      "altimeter               float64\n",
      "air_temp                float64\n",
      "relative_humidity       float64\n",
      "wind_speed              float64\n",
      "wind_direction          float64\n",
      "sea_level_pressure      float64\n",
      "Atmospheric Pressure    float64\n",
      "dtype: object\n"
     ]
    }
   ],
   "source": [
    "print(df_sorted.dtypes)"
   ]
  },
  {
   "cell_type": "code",
   "execution_count": 102,
   "id": "e9e900ba-e46d-42bc-b67b-a5a839fa2361",
   "metadata": {},
   "outputs": [
    {
     "name": "stdout",
     "output_type": "stream",
     "text": [
      "<class 'datetime.date'>\n",
      "<class 'datetime.time'>\n"
     ]
    }
   ],
   "source": [
    "# This would ensure that the date and time columns are seperate but be\n",
    "# able to be used for a dashboard since it is not in a string format anymore.\n",
    "print(type(df_sorted.loc[0, 'Date']))\n",
    "print(type(df_sorted.loc[0, 'Time']))"
   ]
  },
  {
   "cell_type": "code",
   "execution_count": 104,
   "id": "049b738f-d5c0-48d9-b443-bf555d2ba890",
   "metadata": {},
   "outputs": [
    {
     "name": "stdout",
     "output_type": "stream",
     "text": [
      "Data has been successfully inserted into the database.\n"
     ]
    }
   ],
   "source": [
    "import sqlite3\n",
    "\n",
    "# Connect to SQLite database\n",
    "conn = sqlite3.connect('KOXR_2000-2024_data.db')  # This creates the database file.\n",
    "\n",
    "# Write the DataFrame to an SQLite table\n",
    "df_sorted.to_sql('weather', conn, if_exists='replace', index=False)\n",
    "\n",
    "# Commit and close the connection\n",
    "conn.commit()\n",
    "conn.close()\n",
    "\n",
    "print(\"Data has been successfully inserted into the database.\")"
   ]
  },
  {
   "cell_type": "code",
   "execution_count": null,
   "id": "d6e0d55f-75ae-42d1-8a96-7decef980168",
   "metadata": {},
   "outputs": [],
   "source": []
  }
 ],
 "metadata": {
  "kernelspec": {
   "display_name": "Python [conda env:base] *",
   "language": "python",
   "name": "conda-base-py"
  },
  "language_info": {
   "codemirror_mode": {
    "name": "ipython",
    "version": 3
   },
   "file_extension": ".py",
   "mimetype": "text/x-python",
   "name": "python",
   "nbconvert_exporter": "python",
   "pygments_lexer": "ipython3",
   "version": "3.12.7"
  }
 },
 "nbformat": 4,
 "nbformat_minor": 5
}
